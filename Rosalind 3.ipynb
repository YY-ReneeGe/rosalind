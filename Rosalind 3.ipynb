{
 "cells": [
  {
   "cell_type": "markdown",
   "metadata": {},
   "source": [
    "# Enumerating k-mers Lexicographically\n",
    "\n",
    "**Problem**\n",
    "Assume that an alphabet 𝒜 has a predetermined order; that is, we write the alphabet as a permutation 𝒜=(a1,a2,…,ak), where a1<a2<⋯<ak. For instance, the English alphabet is organized as (A,B,…,Z). \n",
    "\n",
    "Given two strings s and t having the same length n, we say that s precedes t in the lexicographic order (and write s<Lext) if the first symbol s[j] that doesn't match t[j] satisfies sj<tj in 𝒜.\n",
    "\n",
    "**Given:**\n",
    "A collection of at most 10 symbols defining an ordered alphabet, and a positive integer n (n≤10).\n",
    "\n",
    "**Return:**\n",
    "All strings of length n that can be formed from the alphabet, ordered lexicographically (use the standard order of symbols in the English alphabet)."
   ]
  },
  {
   "cell_type": "code",
   "execution_count": null,
   "metadata": {},
   "outputs": [],
   "source": [
    "# open file\n",
    "data = open('rosalind_lexf.txt', 'r')\n",
    "data=(data.read()).strip().split('\\n')\n",
    "string=[]\n",
    "for item in list(data[0]):\n",
    "    if item !=' ':\n",
    "        string.append(item)\n",
    "n=int(data[1])\n",
    "\n",
    "# Enumerating\n",
    "import itertools\n",
    "for item in itertools.product(string, repeat=n):\n",
    "    print(str(item ).replace(\"'\",'').replace(\",\",'').replace(\"(\",'').replace(\")\",'').replace(\" \",''))"
   ]
  },
  {
   "cell_type": "markdown",
   "metadata": {},
   "source": [
    "# Longest Increasing Subsequence\n",
    "\n",
    "**Problem**\n",
    "\n",
    "A subsequence of a permutation is a collection of elements of the permutation in the order that they appear. For example, (5, 3, 4) is a subsequence of (5, 1, 3, 4, 2).\n",
    "\n",
    "A subsequence is increasing if the elements of the subsequence increase, and decreasing if the elements decrease. For example, given the permutation (8, 2, 1, 6, 5, 7, 4, 3, 9), an increasing subsequence is (2, 6, 7, 9), and a decreasing subsequence is (8, 6, 5, 4, 3). You may verify that these two subsequences are as long as possible.\n",
    "\n",
    "**Given:** A positive integer n≤10000 followed by a permutation π of length n.\n",
    "\n",
    "**Return:** A longest increasing subsequence of π, followed by a longest decreasing subsequence of π."
   ]
  },
  {
   "cell_type": "code",
   "execution_count": null,
   "metadata": {},
   "outputs": [],
   "source": [
    "data = []                                #This first bit reads the file which\n",
    "with open('rosalind_lgis.txt', 'r') as f:   #contains the the length of the \n",
    "    for line in f:                       #permutation and then the permutation, \n",
    "        for num in line.split():          #separated by spaces. The numbers are \n",
    "            data.append(int(num))         #appended to a list as integers.\n",
    "perm = data[1:]\n",
    "data=perm\n",
    "data"
   ]
  },
  {
   "cell_type": "code",
   "execution_count": null,
   "metadata": {},
   "outputs": [],
   "source": [
    "def LIS(sequence):\n",
    "    # 1st assume the longest subsequence for each position is 1\n",
    "    lis_len=[1]*len(data)\n",
    "    for i in range(1,len(data)):\n",
    "        for j in range(len(data)):\n",
    "            if j<i:\n",
    "                if data[j]<data[i]:\n",
    "                    if (lis_len[j]+1)>(lis_len[i]):\n",
    "                        lis_len[i]=lis_len[j]+1\n",
    "#     print(lis_len)\n",
    "    rv = []\n",
    "    curr_len = max(lis_len)\n",
    "    for i in range(len(sequence) - 1, -1, -1):\n",
    "        if curr_len == lis_len[i]:\n",
    "            rv.append(sequence[i])\n",
    "            curr_len -= 1\n",
    "    return rv[::-1]\n",
    "\n",
    "longest_increasing_subsequence=LIS(data)"
   ]
  },
  {
   "cell_type": "code",
   "execution_count": null,
   "metadata": {},
   "outputs": [],
   "source": [
    "def LDS( sequence ):\n",
    "    lis_len = [1] * len( sequence ) \n",
    "    for x in range( len( sequence ) - 2, -1, -1 ):\n",
    "        for y in range( len( sequence ) - 1, x, -1 ):\n",
    "            if lis_len[x] <= lis_len[y] and sequence[x] > sequence[y]:\n",
    "                lis_len[x] = lis_len[y] + 1 # or use m[x]+=1\n",
    "    \n",
    "    max_value = max(lis_len )\n",
    "    result = []\n",
    "    for i in range( len( lis_len ) ):\n",
    "        if max_value == lis_len[i]:\n",
    "            result.append( sequence[i] )\n",
    "            max_value -= 1\n",
    " \n",
    "    return result\n",
    "\n",
    "longest_decreasing_subsequence=LDS(data)"
   ]
  },
  {
   "cell_type": "code",
   "execution_count": null,
   "metadata": {
    "scrolled": true
   },
   "outputs": [],
   "source": [
    "print(str(longest_increasing_subsequence).replace(\",\",'').replace(\"[\",'').replace(\"]\",''))\n",
    "print(str(longest_decreasing_subsequence).replace(\",\",'').replace(\"[\",'').replace(\"]\",''))"
   ]
  },
  {
   "cell_type": "markdown",
   "metadata": {},
   "source": [
    "# Partial Permutations(排列）\n",
    "\n",
    "**Problem**\n",
    "\n",
    "A partial permutation is an ordering of only k objects taken from a collection containing n objects (i.e., k≤n). For example, one partial permutation of three of the first eight positive integers is given by (5,7,2).\n",
    "\n",
    "The statistic P(n,k) counts the total number of partial permutations of k objects that can be formed from a collection of n objects. Note that P(n,n) is just the number of permutations of n objects, which we found to be equal to n!=n(n−1)(n−2)⋯(3)(2) in ***“Enumerating Gene Orders”***.\n",
    "\n",
    "**Given:** Positive integers n and k such that 100≥n>0 and 10≥k>0.\n",
    "\n",
    "**Return:** The total number of partial permutations P(n,k), modulo 1,000,000."
   ]
  },
  {
   "cell_type": "code",
   "execution_count": null,
   "metadata": {},
   "outputs": [],
   "source": [
    "# read the file\n",
    "data = open(\"rosalind_pper.txt\", \"r\")\n",
    "data=(data.read()).strip().split('\\n')\n",
    "data"
   ]
  },
  {
   "cell_type": "code",
   "execution_count": null,
   "metadata": {},
   "outputs": [],
   "source": [
    "def recur_factorial(n):\n",
    "    if n == 1:\n",
    "        return n\n",
    "    else:\n",
    "        return n*recur_factorial(n-1)"
   ]
  },
  {
   "cell_type": "code",
   "execution_count": null,
   "metadata": {},
   "outputs": [],
   "source": [
    "def partial_permutations(n,k):\n",
    "    return (recur_factorial(n)/recur_factorial(n-k)) % 1000000\n",
    "partial_permutations(95, 8)"
   ]
  },
  {
   "cell_type": "markdown",
   "metadata": {},
   "source": [
    "# Perfect Matchings and RNA Secondary Structures\n",
    "\n",
    "**Given:** An RNA string s of length at most 80 bp having the same number of occurrences of 'A' as 'U' and the same number of occurrences of 'C' as 'G'.\n",
    "\n",
    "**Return:** The total possible number of perfect matchings of basepair edges in the bonding graph of s."
   ]
  },
  {
   "cell_type": "code",
   "execution_count": null,
   "metadata": {},
   "outputs": [],
   "source": [
    "# read data from file\n",
    "data = open(\"rosalind_pmch.txt\", \"r\")\n",
    "data=(data.read()).strip().split('\\n')\n",
    "# store all info to dictionaries\n",
    "segments = {}\n",
    "for line in data:\n",
    "#     line = line.rstrip()\n",
    "    if line[0] == '>':\n",
    "        temp = line.strip('>')\n",
    "        segments[temp] = \"\"    \n",
    "    else:\n",
    "        segments[temp] += line\n",
    "    data=segments[temp]\n",
    "        \n",
    "data"
   ]
  },
  {
   "cell_type": "code",
   "execution_count": null,
   "metadata": {},
   "outputs": [],
   "source": [
    "from math import factorial\n",
    "def problem(rna):\n",
    "    return factorial(rna.count(\"A\")) * factorial(rna.count(\"C\"))\n",
    "problem(data)"
   ]
  },
  {
   "cell_type": "markdown",
   "metadata": {},
   "source": [
    "# Transitions and Transversions \n",
    "\n",
    "**Problem**\n",
    "\n",
    "For DNA strings s1 and s2 having the same length, their transition/transversion ratio R(s1,s2) is the ratio of the total number of transitions to the total number of transversions, where symbol substitutions are inferred from mismatched corresponding symbols as when calculating Hamming distance (see “Counting Point Mutations”).\n",
    "\n",
    "**Given:** Two DNA strings s1 and s2 of equal length (at most 1 kbp).\n",
    "\n",
    "**Return:** The transition/transversion ratio R(s1,s2)."
   ]
  },
  {
   "cell_type": "code",
   "execution_count": null,
   "metadata": {
    "scrolled": true
   },
   "outputs": [],
   "source": [
    "# read data from file\n",
    "data = open(\"rosalind_tran.txt\", \"r\")\n",
    "data=(data.read()).strip().split('\\n')\n",
    "# store all info to dictionaries\n",
    "segments = {}\n",
    "for line in data:\n",
    "#     line = line.rstrip()\n",
    "    if line[0] == '>':\n",
    "        temp = line.strip('>')\n",
    "        segments[temp] = \"\"    \n",
    "    else:\n",
    "        segments[temp] += line\n",
    "    data=segments[temp]\n",
    "\n",
    "seq=[]\n",
    "for item in segments.values():\n",
    "    seq.append(item)\n",
    "s1=seq[0]\n",
    "s2=seq[1]"
   ]
  },
  {
   "cell_type": "code",
   "execution_count": null,
   "metadata": {},
   "outputs": [],
   "source": [
    "def R(s1,s2):\n",
    "    transition=0\n",
    "    transversion=0\n",
    "    for i in range(len(s1)):\n",
    "        if (s1[i] =='A' and s2[i] =='G' ) or (s1[i] =='G' and s2[i] =='A') :\n",
    "            transition+=1\n",
    "        elif (s1[i] =='C' and s2[i] =='T') or (s1[i] =='T' and s2[i] =='C'):\n",
    "            transition+=1\n",
    "        elif (s1[i] =='A' and (s2[i] =='C' or s2[i] =='T')) or (s1[i] =='C' and (s2[i] =='A'or s2[i] =='G')):\n",
    "            transversion+=1\n",
    "        elif (s1[i] =='G' and (s2[i] =='T'or s2[i] =='C')) or (s1[i] =='T' and (s2[i] =='G'or s2[i] =='A')):\n",
    "            transversion+=1\n",
    "    return round(transition/transversion,11)\n",
    "        \n",
    "R(s1,s2)    "
   ]
  },
  {
   "cell_type": "markdown",
   "metadata": {},
   "source": [
    "# Finding a Spliced Motif\n",
    "\n",
    "**Problem**\n",
    "\n",
    "A subsequence of a string is a collection of symbols contained in order (though not necessarily contiguously) in the string (e.g., ACG is a subsequence of TATGCTAAGATC). The indices of a subsequence are the positions in the string at which the symbols of the subsequence appear; thus, the indices of ACG in TATGCTAAGATC can be represented by (2, 5, 9).\n",
    "\n",
    "As a substring can have multiple locations, a subsequence can have multiple collections of indices, and the same index can be reused in more than one appearance of the subsequence; for example, ACG is a subsequence of AACCGGTT in 8 different ways.\n",
    "\n",
    "**Given:** Two DNA strings s and t (each of length at most 1 kbp) in FASTA format.\n",
    "\n",
    "**Return:** One collection of indices of s in which the symbols of t appear as a subsequence of s. If multiple solutions exist, you may return any one."
   ]
  },
  {
   "cell_type": "code",
   "execution_count": null,
   "metadata": {},
   "outputs": [],
   "source": [
    "# read data from file\n",
    "data = open(\"rosalind_sseq.txt\", \"r\")\n",
    "data=(data.read()).strip().split('\\n')\n",
    "# store all info to dictionaries\n",
    "segments = {}\n",
    "for line in data:\n",
    "#     line = line.rstrip()\n",
    "    if line[0] == '>':\n",
    "        temp = line.strip('>')\n",
    "        segments[temp] = \"\"    \n",
    "    else:\n",
    "        segments[temp] += line\n",
    "    data=segments[temp]\n",
    "\n",
    "seq=[]\n",
    "for item in segments.values():\n",
    "    seq.append(item)\n",
    "s1=seq[0]\n",
    "\n",
    "s2=seq[1]\n",
    "s2"
   ]
  },
  {
   "cell_type": "code",
   "execution_count": null,
   "metadata": {},
   "outputs": [],
   "source": [
    "dic={}\n",
    "for item in s2:\n",
    "    dic[item]=[]\n",
    "    for i in range(len(s1)):\n",
    "        if item == s1[i]:\n",
    "            dic[item].append(i+1)\n",
    "# dic"
   ]
  },
  {
   "cell_type": "code",
   "execution_count": null,
   "metadata": {},
   "outputs": [],
   "source": [
    "final=[0]*len(s2)\n",
    "for i in range(len(s2)):\n",
    "    value=dic[s2[i]]\n",
    "#     print(value)\n",
    "    if i==0:\n",
    "        final[0]=value[0]\n",
    "        value.remove(value[0])\n",
    "    else:\n",
    "        while value[0]<=final[i-1]:\n",
    "            value.remove(value[0])\n",
    "        if value[0]>final[i-1]:\n",
    "            if (value[0] not in final) and(value[0]>final[i]):\n",
    "                final[i]=value[0]\n",
    "                value.remove(value[0])\n",
    "print(str(final).replace(\"[\",'').replace(\"]\",'').replace(\",\",''))\n"
   ]
  },
  {
   "cell_type": "markdown",
   "metadata": {},
   "source": [
    "# Enumerating Oriented Gene Orderings\n",
    "\n",
    "**Problem**\n",
    "\n",
    "A signed permutation of length n is some ordering of the positive integers {1,2,…,n} in which each integer is then provided with either a positive or negative sign (for the sake of simplicity, we omit the positive sign). For example, π=(5,−3,−2,1,4) is a signed permutation of length 5.\n",
    "\n",
    "**Given:** A positive integer n≤6.\n",
    "\n",
    "**Return:** The total number of signed permutations of length n, followed by a list of all such permutations (you may list the signed permutations in any order)."
   ]
  },
  {
   "cell_type": "code",
   "execution_count": null,
   "metadata": {},
   "outputs": [],
   "source": [
    "data = open(\"rosalind_sign.txt\", \"r\")\n",
    "data=(data.read()).strip().split('\\n')\n",
    "n=int(data[0])\n",
    "number=[]\n",
    "while n>0:\n",
    "    result1=n\n",
    "    result2=-n\n",
    "    number.append(result1)\n",
    "    number.append(result2)\n",
    "    n-=1\n",
    "number =sorted(number) \n",
    "number"
   ]
  },
  {
   "cell_type": "code",
   "execution_count": null,
   "metadata": {},
   "outputs": [],
   "source": [
    "from itertools import combinations, permutations,product\n",
    "n=int(data[0]  )\n",
    "\n",
    "permutation=list(permutations(number,n)) \n",
    "final=[]\n",
    "for i in range(len(permutation)) :\n",
    "    item = permutation[i]\n",
    "    l=[]\n",
    "    for m in range(len(item)):\n",
    "        l.append(item[m])\n",
    "        n=[abs(x) for x in l]\n",
    "    a_set=list(set(n))\n",
    "    if len(a_set) ==len(l):\n",
    "        final.append(l)\n",
    "print(len(final))\n",
    "for new in final:   \n",
    "    print(str(new).replace(\"[\",'').replace(\"]\",'').replace(\",\",''))   "
   ]
  },
  {
   "attachments": {
    "Screenshot%20from%202016-07-22%2011_37_55.png": {
     "image/png": "[encoded data removed]"
    }
   },
   "cell_type": "markdown",
   "metadata": {},
   "source": [
    "# Introduction to Random Strings\n",
    "The probability, P of the subsequence occuring in a sequence of a GC content x, can be simplified and written as follows, where AC is the total nr of A and C in the subsequence and GC is the total number of G and C:\n",
    "\n",
    "![Screenshot%20from%202016-07-22%2011_37_55.png](attachment:Screenshot%20from%202016-07-22%2011_37_55.png)\n",
    "\n",
    "**Given:** A DNA string s of length at most 100 bp and an array A containing at most 20 numbers between 0 and 1.\n",
    "\n",
    "**Return:** An array B having the same length as A in which B[k] represents the common logarithm of the probability that a random string constructed with the GC-content found in A[k] will match s exactly."
   ]
  },
  {
   "cell_type": "code",
   "execution_count": null,
   "metadata": {},
   "outputs": [],
   "source": [
    "# open the file\n",
    "data=open('rosalind_prob.txt','r')\n",
    "s=data.readline().strip()\n",
    "A=[float(x) for x in data.readline().split()]"
   ]
  },
  {
   "cell_type": "code",
   "execution_count": null,
   "metadata": {},
   "outputs": [],
   "source": [
    "from numpy import log10    \n",
    "def randomStrings(s, A):\n",
    "    result = []\n",
    "    GC_count = s.count(\"G\") + s.count(\"C\")\n",
    "    AT_count=s.count(\"A\") + s.count(\"T\")\n",
    "    for p in A:\n",
    "        result.append( GC_count * log10(p / 2) + AT_count * log10(0.5 - p / 2))\n",
    "    return result"
   ]
  },
  {
   "cell_type": "code",
   "execution_count": null,
   "metadata": {},
   "outputs": [],
   "source": [
    "randomStrings(s,A)"
   ]
  },
  {
   "cell_type": "markdown",
   "metadata": {},
   "source": [
    "# Matching Random Motifs\n",
    "\n",
    "**Given:** A positive integer N≤100000, a number x between 0 and 1, and a DNA string s of length at most 10 bp.\n",
    "\n",
    "**Return:** The probability that if N random DNA strings having the same length as s are constructed with GC-content x (see “Introduction to Random Strings”), then at least one of the strings equals s. We allow for the same random string to be created more than once."
   ]
  },
  {
   "cell_type": "code",
   "execution_count": null,
   "metadata": {},
   "outputs": [],
   "source": [
    "# open the file\n",
    "data=open('rosalind_rstr.txt','r')\n",
    "info=[item for item in data.read().strip().split('\\n')]\n",
    "info"
   ]
  },
  {
   "cell_type": "code",
   "execution_count": null,
   "metadata": {},
   "outputs": [],
   "source": [
    "N=90658\n",
    "# #prob_gc\n",
    "p=0.430628\n",
    "s='GGCTCGAG'\n"
   ]
  },
  {
   "attachments": {
    "Screenshot%20from%202016-07-22%2011_37_55.png": {
     "image/png": "[encoded data removed]"
    }
   },
   "cell_type": "markdown",
   "metadata": {},
   "source": [
    "![Screenshot%20from%202016-07-22%2011_37_55.png](attachment:Screenshot%20from%202016-07-22%2011_37_55.png)"
   ]
  },
  {
   "cell_type": "code",
   "execution_count": null,
   "metadata": {},
   "outputs": [],
   "source": [
    "from numpy import log10    \n",
    "def randomStrings(s, p):\n",
    "    GC_count = s.count(\"G\") + s.count(\"C\")\n",
    "    AT_count=s.count(\"A\") + s.count(\"T\")\n",
    "    # probability of GC content \n",
    "    s_prob =(((p) / 2)**GC_count)* (((1 - p) / 2)**AT_count) \n",
    "    # prob of no gc content\n",
    "    no_gc=(1 - s_prob)**N\n",
    "    # prob of at lease one gc-content\n",
    "    prob = 1 - no_gc\n",
    "    return round(prob,3)\n",
    "randomStrings(s, p)"
   ]
  },
  {
   "cell_type": "markdown",
   "metadata": {},
   "source": [
    "# Ordering Strings of Varying Length Lexicographically\n",
    "\n",
    "**Problem**\n",
    "\n",
    "Say that we have strings s=s1s2⋯sm and t=t1t2⋯tn with m<n. Consider the substring t′=t[1:m]. We have two cases:\n",
    "\n",
    "If s=t′, then we set s<Lext because s is shorter than t (e.g., APPLE<APPLET).\n",
    "Otherwise, s≠t′. We define s<Lext if s<Lext′ and define s>Lext if s>Lext′ (e.g., APPLET<LexARTS because APPL<LexARTS).\n",
    "\n",
    "**Given:** A permutation of at most 12 symbols defining an ordered alphabet 𝒜 and a positive integer n (n≤4).\n",
    "\n",
    "**Return:** All strings of length at most n formed from 𝒜, ordered lexicographically. (Note: As in “Enumerating k-mers Lexicographically”, alphabet order is based on the order in which the symbols are given.)"
   ]
  },
  {
   "cell_type": "code",
   "execution_count": null,
   "metadata": {
    "scrolled": true
   },
   "outputs": [],
   "source": [
    "# open file\n",
    "data = open('rosalind_lexv.txt', 'r')\n",
    "data=(data.read()).strip().split('\\n')\n",
    "\n",
    "string=''\n",
    "for item in list(data[0]):\n",
    "    if item !=' ':\n",
    "        string+=item\n",
    "n=int(data[1])\n",
    "out=[]\n",
    "# Enumerating\n",
    "import itertools\n",
    "for i in range(n+1):\n",
    "    for item in itertools.product(string, repeat=i):\n",
    "        out.append(str(item ).replace(\"'\",'').replace(\",\",'').replace(\"(\",'').replace(\")\",'').replace(\" \",''))\n",
    "        \n",
    "# remove \" \"\n",
    "for item in out:\n",
    "    if len(item)<1:\n",
    "        out.remove(item)\n",
    "output = sorted(out,key=lambda word: [string.index(c) for c in word])\n",
    "# print(str(output).replace(\"'\",'').replace(\",\",'').replace(\"(\",'').replace(\")\",'').replace(\" \",''))\n",
    "for item in output:\n",
    "    print(item)"
   ]
  },
  {
   "cell_type": "markdown",
   "metadata": {},
   "source": [
    "# k-Mer Composition\n",
    "\n",
    "**Problem**\n",
    "\n",
    "For a fixed positive integer k, order all possible k-mers taken from an underlying alphabet lexicographically.\n",
    "\n",
    "Then the k-mer composition of a string s can be represented by an array A for which A[m] denotes the number of times that the mth k-mer (with respect to the lexicographic order) appears in s.\n",
    "\n",
    "**Given:** A DNA string s in FASTA format (having length at most 100 kbp).\n",
    "\n",
    "**Return:** The 4-mer composition of s."
   ]
  },
  {
   "cell_type": "code",
   "execution_count": null,
   "metadata": {},
   "outputs": [],
   "source": [
    "# all posible outcomes\n",
    "string=['A','C','G','T']\n",
    "n=4\n",
    "outcome=[]\n",
    "# Enumerating\n",
    "import itertools\n",
    "for item in itertools.product(string, repeat=n):\n",
    "    \n",
    "    outcome.append(item)\n",
    "out=[]\n",
    "for item in outcome:\n",
    "    out.append(''.join(item))\n",
    "# out\n",
    "\n",
    "diction={}\n",
    "for each in out:\n",
    "    diction[each]=0\n",
    "# diction"
   ]
  },
  {
   "cell_type": "code",
   "execution_count": null,
   "metadata": {},
   "outputs": [],
   "source": [
    "# open file\n",
    "data = open('rosalind_kmer.txt', 'r')\n",
    "data=(data.read()).strip().split('\\n')\n",
    "# store all info to dictionaries\n",
    "segments = {}\n",
    "for line in data:\n",
    "#     line = line.rstrip()\n",
    "    if line[0] == '>':\n",
    "        temp = line.strip('>')\n",
    "        segments[temp] = \"\"    \n",
    "    else:\n",
    "        segments[temp] += line\n",
    "    data=segments[temp]\n",
    "segments\n",
    "\n",
    "seq=[]\n",
    "for item in segments.values():\n",
    "    seq.append(item)\n",
    "    \n",
    "squence=''    \n",
    "for s in seq:\n",
    "    squence+=s\n",
    "# squence"
   ]
  },
  {
   "cell_type": "code",
   "execution_count": null,
   "metadata": {},
   "outputs": [],
   "source": [
    "new=[]\n",
    "for i in range(len(squence)):\n",
    "    if i+4<=len(squence):\n",
    "        m=squence[i:i+4]\n",
    "        if len(m)==4:\n",
    "            new.append(m)\n",
    "new=sorted(new) \n",
    "# new"
   ]
  },
  {
   "cell_type": "code",
   "execution_count": null,
   "metadata": {},
   "outputs": [],
   "source": [
    "dic={}\n",
    "l=[]\n",
    "for item in new:\n",
    "    if item not in l:\n",
    "        number=1\n",
    "        l.append(item)\n",
    "        dic[item]=number\n",
    "    else:\n",
    "        number+=1\n",
    "        dic[item]=number"
   ]
  },
  {
   "cell_type": "code",
   "execution_count": null,
   "metadata": {},
   "outputs": [],
   "source": [
    "# diction\n",
    "for key,value in dic.items():\n",
    "#     print(key)\n",
    "    for i in range(len( diction.keys())):\n",
    "        if key == list(diction.keys())[i]:\n",
    "#             print(list(diction.keys())[i])\n",
    "            diction[key]=value\n",
    "print(str(diction.values()).replace(',',''))"
   ]
  },
  {
   "cell_type": "markdown",
   "metadata": {},
   "source": [
    "# Completing a Tree \n",
    "\n",
    "**Given:** A positive integer n (n≤1000) and an adjacency list corresponding to a graph on n nodes that contains no cycles.\n",
    "\n",
    "**Return:** The minimum number of edges that can be added to the graph to produce a tree."
   ]
  },
  {
   "cell_type": "code",
   "execution_count": null,
   "metadata": {
    "scrolled": true
   },
   "outputs": [],
   "source": [
    "# open file\n",
    "data = open('rosalind_tree.txt', 'r')\n",
    "data=(data.read()).splitlines()\n",
    "# data"
   ]
  },
  {
   "cell_type": "code",
   "execution_count": null,
   "metadata": {},
   "outputs": [],
   "source": [
    "# number of all nodes\n",
    "n=int(data[0])\n",
    "# each input indicates a edges, therefore as two nodes need one edge, three nodes need two edges:\n",
    "output=n - len(data[1:]) - 1\n",
    "output"
   ]
  },
  {
   "cell_type": "markdown",
   "metadata": {},
   "source": [
    "# Genome Assembly as Shortest Superstring\n",
    "\n",
    "**Problem**\n",
    "\n",
    "For a collection of strings, a larger string containing every one of the smaller strings as a substring is called a ***superstring***.\n",
    "\n",
    "By the assumption of parsimony, a shortest possible superstring over a collection of reads serves as a ***candidate chromosome***.\n",
    "\n",
    "**Given:** \n",
    "\n",
    "At most 50 DNA strings of approximately equal length, not exceeding 1 kbp, in FASTA format (which represent reads deriving from the same strand of a single linear chromosome).\n",
    "\n",
    "The dataset is guaranteed to satisfy the following condition: there exists a unique way to reconstruct the entire chromosome from these reads by gluing together pairs of reads that ***overlap by more than half their length***.\n",
    "\n",
    "**Return:**\n",
    "\n",
    "A shortest superstring containing all the given strings (thus corresponding to a reconstructed chromosome)."
   ]
  },
  {
   "cell_type": "code",
   "execution_count": 1,
   "metadata": {},
   "outputs": [],
   "source": [
    "s1='ATTAGACCTG'\n",
    "s2='CCTGCCGGAA'\n",
    "s3='AGACCTGCCG'\n",
    "s4='GCCGGAATAC'\n",
    "\n",
    "string=[s1,s2,s3,s4]"
   ]
  },
  {
   "cell_type": "code",
   "execution_count": 2,
   "metadata": {
    "scrolled": true
   },
   "outputs": [
    {
     "data": {
      "text/plain": [
       "['GCCGGA',\n",
       " 'CCTGCC',\n",
       " 'AGACCT',\n",
       " 'GCCGGAA',\n",
       " 'CCTGCCG',\n",
       " 'CTGCCG',\n",
       " 'AGACCTG',\n",
       " 'GACCTG',\n",
       " 'CCGGAA']"
      ]
     },
     "execution_count": 2,
     "metadata": {},
     "output_type": "execute_result"
    }
   ],
   "source": [
    "info=[]\n",
    "new=''\n",
    "for n in range(len(string)):\n",
    "    for q in range(n+1,len(string)):\n",
    "        for i in range(len(string[n])):\n",
    "            for j in range(i,len(string[n])):\n",
    "                m1=string[n][i:j+1]\n",
    "                if q<len(string):\n",
    "                    if m1 in string[q] and len(m1)>len(string[q])/2:\n",
    "                        info.append(m1)\n",
    "info=list(set(info))\n",
    "info"
   ]
  },
  {
   "cell_type": "code",
   "execution_count": 3,
   "metadata": {
    "scrolled": true
   },
   "outputs": [
    {
     "data": {
      "text/plain": [
       "['CCTGCC', 'GCCGGAA', 'CCTGCCG', 'CTGCCG', 'AGACCTG', 'GACCTG', 'CCGGAA', '0']"
      ]
     },
     "execution_count": 3,
     "metadata": {},
     "output_type": "execute_result"
    }
   ],
   "source": [
    "new=[]\n",
    "for i in range(len(info)):\n",
    "    for j in range(i+1,len(info)):\n",
    "        if info[i] in info[j]:\n",
    "            info.remove(info[i])\n",
    "            info.append('0')\n",
    "#         print(i,j)\n",
    "\n",
    "for item in info:\n",
    "    if item == '0':\n",
    "        info.remove(item)\n",
    "info"
   ]
  },
  {
   "cell_type": "markdown",
   "metadata": {},
   "source": [
    "# Finding a Shared Spliced Motif\n",
    "\n",
    "**Problem**\n",
    "\n",
    "A string u is a common subsequence of strings s and t if the symbols of u appear in order as a subsequence of both s and t. For example, \"ACTG\" is a common subsequence of \"AACCTTGG\" and \"ACACTGTGA\".\n",
    "\n",
    "Analogously to the definition of longest common substring, u is a longest common subsequence of s and t if there does not exist a longer common subsequence of the two strings. Continuing our above example, \"ACCTTG\" is a longest common subsequence of \"AACCTTGG\" and \"ACACTGTGA\", as is \"AACTGG\".\n",
    "\n",
    "**Given:** Two DNA strings s and t (each having length at most 1 kbp) in FASTA format.\n",
    "\n",
    "**Return:** A longest common subsequence of s and t. (If more than one solution exists, you may return any one.)"
   ]
  },
  {
   "cell_type": "code",
   "execution_count": null,
   "metadata": {},
   "outputs": [],
   "source": [
    "# # read data from file\n",
    "# data = open(\"rosalind_sseq.txt\", \"r\")\n",
    "# data=(data.read()).strip().split('\\n')\n",
    "# # store all info to dictionaries\n",
    "# segments = {}\n",
    "# for line in data:\n",
    "# #     line = line.rstrip()\n",
    "#     if line[0] == '>':\n",
    "#         temp = line.strip('>')\n",
    "#         segments[temp] = \"\"    \n",
    "#     else:\n",
    "#         segments[temp] += line\n",
    "#     data=segments[temp]\n",
    "\n",
    "# seq=[]\n",
    "# for item in segments.values():\n",
    "#     seq.append(item)\n",
    "# s1=seq[0]\n",
    "\n",
    "# s2=seq[1]\n",
    "# s2"
   ]
  },
  {
   "cell_type": "code",
   "execution_count": null,
   "metadata": {},
   "outputs": [],
   "source": [
    "s1='AACCTTGG'\n",
    "s2='ACACTGTGA'"
   ]
  },
  {
   "cell_type": "code",
   "execution_count": null,
   "metadata": {},
   "outputs": [],
   "source": [
    "from Bio import SeqIO\n",
    "sequences = []\n",
    "handle = open('rosalind_lcsq.txt', 'r')\n",
    "for record in SeqIO.parse(handle, 'fasta'):\n",
    "    sequences.append(str(record.seq))\n",
    "s = sequences[0]\n",
    "t = sequences[1]\n",
    "\n",
    "\n",
    "\n",
    "lengths = [[0 for j in range(len(t) + 1)] for i in range(len(s) + 1)]\n",
    "#creates array of len(s) containing arrays of len(t) filled with 0\n",
    "for i, x in enumerate(s):\n",
    "    for j, y in enumerate(t):\n",
    "        if x == y:\n",
    "            lengths[i + 1][j + 1] = lengths[i][j] + 1\n",
    "        else:\n",
    "            lengths[i + 1][j + 1] = max(lengths[i + 1][j], lengths[i][j + 1])\n",
    "\n",
    "\n",
    "spliced_motif = ''\n",
    "x, y = len(s), len(t)\n",
    "\n",
    "\n",
    "while x * y != 0:\n",
    "    if lengths[x][y] == lengths[x - 1][y]:\n",
    "        x -= 1\n",
    "    elif lengths[x][y] == lengths[x][y - 1]:\n",
    "        y -= 1\n",
    "    else:\n",
    "        spliced_motif = s[x - 1] + spliced_motif\n",
    "        x -= 1\n",
    "        y -= 1\n",
    "print(spliced_motif)"
   ]
  },
  {
   "cell_type": "markdown",
   "metadata": {},
   "source": [
    "# Speeding Up Motif Finding\n",
    "\n",
    "**Problem**\n",
    "A prefix of a length n string s is a substring s[1:j]; a suffix of s is a substring s[k:n].\n",
    "\n",
    "The failure array of s is an array P of length n for which P[k] is the length of the longest substring s[j:k] that is equal to some prefix s[1:k−j+1], where j cannot equal 1 (otherwise, P[k] would always equal k). By convention, P[1]=0.\n",
    "\n",
    "**Given:** A DNA string s (of length at most 100 kbp) in FASTA format.\n",
    "\n",
    "**Return:** The failure array of s."
   ]
  },
  {
   "cell_type": "code",
   "execution_count": null,
   "metadata": {
    "scrolled": true
   },
   "outputs": [],
   "source": [
    "# from Bio import SeqIO\n",
    "# sequences = []\n",
    "# handle = open('rosalind_lcsq.txt', 'r')\n",
    "# for record in SeqIO.parse(handle, 'fasta'):\n",
    "#     sequences.append(str(record.seq))\n",
    "# S = sequences[0]\n",
    "# T = sequences[1]\n",
    "S=s1\n",
    "T=s2\n",
    "cur = [''] * (len(T) + 1) #dummy entries as per wiki\n",
    "\n",
    "for s in S:\n",
    "    last, cur = cur, [''] \n",
    "    for i, t in enumerate(T):\n",
    "        print(i,t)\n",
    "        cur.append(last[i] + s if s==t else max(last[i+1], cur[-1], key=len))\n",
    "# print (cur[-1])"
   ]
  },
  {
   "cell_type": "markdown",
   "metadata": {},
   "source": [
    "# Edit Distance"
   ]
  },
  {
   "cell_type": "code",
   "execution_count": null,
   "metadata": {},
   "outputs": [],
   "source": [
    "# read data from file\n",
    "data = open(\"rosalind_edit.txt\", \"r\")\n",
    "data=(data.read()).strip().split('\\n')\n",
    "# store all info to dictionaries\n",
    "segments = {}\n",
    "for line in data:\n",
    "#     line = line.rstrip()\n",
    "    if line[0] == '>':\n",
    "        temp = line.strip('>')\n",
    "        segments[temp] = \"\"    \n",
    "    else:\n",
    "        segments[temp] += line\n",
    "    data=segments[temp]\n",
    "\n",
    "seq=[]\n",
    "for item in segments.values():\n",
    "    seq.append(item)\n",
    "s1=seq[0]\n",
    "\n",
    "s2=seq[1]\n",
    "# s2\n",
    "import nltk\n",
    "\n",
    "print(nltk.edit_distance(s1, s2))"
   ]
  },
  {
   "cell_type": "markdown",
   "metadata": {},
   "source": [
    "# Edit Distance Alignment"
   ]
  },
  {
   "cell_type": "code",
   "execution_count": null,
   "metadata": {},
   "outputs": [],
   "source": [
    "s1='PRETTY'\n",
    "s2='PRTTEIN'\n",
    "print(nltk.edit_distance(s1, s2))"
   ]
  },
  {
   "cell_type": "code",
   "execution_count": null,
   "metadata": {},
   "outputs": [],
   "source": [
    "align=nltk.edit_distance_align(s1, s2)\n",
    "# align"
   ]
  },
  {
   "cell_type": "code",
   "execution_count": null,
   "metadata": {},
   "outputs": [],
   "source": [
    "if align[0][0]==0:\n",
    "    align.remove(align[0])\n",
    "align"
   ]
  },
  {
   "cell_type": "code",
   "execution_count": null,
   "metadata": {},
   "outputs": [],
   "source": [
    "out_s1=''\n",
    "out_s2=''\n",
    "for i in range(len(align)):\n",
    "    if align[i][0]==align[i][1]:\n",
    "        out_s1+=s1[align[i][0]-1]\n",
    "        out_s2+=s2[align[i][1]-1]\n",
    "\n",
    "#     elif align[i][0]>align[i][1]:\n",
    "#         end=out_s2[-1]\n",
    "#         out_s2 =out_s2[:-1] +'-'+end\n",
    "#         out_s1+=s1[align[i][0]-1]\n",
    "#         out_s2+='-'\n",
    "\n",
    "#     elif align[i][0]<align[i][1]:\n",
    "#         out_s1+='-'\n",
    "#         out_s2+=s2[align[i][1]-1]\n",
    "        \n",
    "print(out_s1)  \n",
    "print(out_s2) "
   ]
  },
  {
   "cell_type": "code",
   "execution_count": null,
   "metadata": {},
   "outputs": [],
   "source": []
  }
 ],
 "metadata": {
  "kernelspec": {
   "display_name": "Python 3",
   "language": "python",
   "name": "python3"
  },
  "language_info": {
   "codemirror_mode": {
    "name": "ipython",
    "version": 3
   },
   "file_extension": ".py",
   "mimetype": "text/x-python",
   "name": "python",
   "nbconvert_exporter": "python",
   "pygments_lexer": "ipython3",
   "version": "3.7.3"
  }
 },
 "nbformat": 4,
 "nbformat_minor": 2
}
